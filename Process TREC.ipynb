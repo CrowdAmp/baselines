{
 "cells": [
  {
   "cell_type": "code",
   "execution_count": 17,
   "metadata": {
    "collapsed": false,
    "scrolled": false
   },
   "outputs": [
    {
     "name": "stdout",
     "output_type": "stream",
     "text": [
      "{1: ['What kind of animal was Winnie the Pooh?', 'Winnie the Pooh is what kind of animal?  ', 'What species was Winnie the Pooh?', 'Winnie the Pooh is an imitation of which animal?', 'What was the species of Winnie the Pooh?'], 2: [\"What's another name for aspartame?\", 'Aspartame if also known as what?', 'What is a synonym for aspartame?', 'Aspartame is known by what other name?', 'Aspartame is also called what?'], 3: ['What does hazmat stand for?', 'Hazmat stands for what?', 'What is the definition of hazmat?'], 4: ['What tourist attractions are there in Reims?', 'What are the names of the tourist attractions in Reims?', 'What do most tourists visit in Reims?', 'What attracts tourists to Reims?', 'What are tourist attractions in Reims?', 'What could I see in Reims?', 'What is worth seeing in Reims?', 'What can one see in Reims?'], 5: ['Name a film in which Jude Law acted.', 'Jude Law was in what movie?', 'Jude Law acted in which film?', 'What is a film starring Jude Law?', 'What film was Jude Law in?', 'What film or films has Jude Law appeared in?'], 6: ['Where are the U.S. headquarters for Procter & Gamble?', 'What city houses the U.S. headquarters of Procter and Gamble?', 'Where is Procter & Gamble headquartered in the U.S.?', 'What is the U.S. location of Procter & Gamble corporate offices?', 'Procter & Gamble is headquartered in which U.S. city?', 'Where is Procter & Gamble based in the U.S.?'], 7: ['How much folic acid should an expectant mother get daily? ', 'What is the recommended daily requirement for folic acid for pregnant women?', 'How much folic acid should a pregnant woman get each day?', 'What is the daily requirement of folic acid for an expectant mother?', 'What amount of folic acid should an expectant mother take daily?'], 8: ['What was the name of the first Russian astronaut to do a spacewalk? ', 'Name the first Russian astronaut to do a spacewalk.', 'Who was the first Russian astronaut to walk in space?', 'Who was the first Russian to do a spacewalk?'], 9: ['What does CNN stand for?', 'CNN is the abbreviation for what?', 'CNN is an acronym for what?'], 10: [\"When was CNN's first broadcast?\", \"What was the date of CNN's first broadcast?\", 'CNN began broadcasting in what year?', \"CNN's first broadcast occurred on what date?\", 'When did CNN begin broadcasting?', 'When did CNN go on the air?'], 11: ['Who owns CNN?', 'Who is the owner of CNN?', 'CNN is owned by whom?'], 12: ['What is the name of a Salt Lake City newspaper?', 'What newspaper serves Salt Lake City?', 'Name a Salt Lake City newspaper.'], 13: ['Who was Jane Goodall?', 'What is Jane Goodall famous for?', 'What is Jane Goodall known for?', 'Why is Jane Goodall famous?', 'What made Jane Goodall famous?'], 14: ['What is thalassemia?', 'Define thalassemia.', 'What is the meaning of thalassemia?', 'How is thalassemia defined?'], 15: ['What soft drink contains the largest amount of caffeine?', 'What soft drink is most heavily caffeinated?', 'What is the most heavily caffeinated soft drink?', 'To get the most caffeine, what soda should I drink?', 'Which type of soda has the greatest amount of caffeine?', 'What soft drink would provide me with the biggest intake of caffeine?'], 16: ['What do you call a group of geese?', 'What is the collective term for geese?', 'What is the collective noun for geese?', 'What is the term for a group of geese?', 'What is the name given to a group of geese?'], 17: ['How many months does a normal human pregnancy last?', 'What is the gestation period for human pregnancies?', 'How long is human gestation?', 'What is the gestation period for humans?', 'A normal human pregnancy lasts how many months?'], 18: [\"What format was VHS's main competition?\", 'What was the alternate to VHS?', 'What video format was an alternative to VHS?', 'What format was the major competition of VHS?'], 19: ['What culture developed the idea of potlatch?', 'What ethnic group introduced the idea of potlatch?', 'What is the cultural origin of the ceremony of potlatch?', 'Who developed potlatch?'], 20: ['Where is Logan International located?', 'Where is Logan Airport?', 'What city is Logan Airport in?', 'Logan International serves what city?', 'Logan International is located in what city?', \"What city's airport is named Logan International?\", 'What city is served by Logan International Airport?'], 21: ['What university was Woodrow Wilson president of?', 'Woodrow Wilson was president of which university?', 'Name the university of which Woodrow Wilson was president.', 'Woodrow Wilson served as president of what university?'], 22: ['What does CPR stand for?', 'What does the acronym CPR mean?', 'What do the initials CPR stand for?', 'CPR is the abbreviation for what?', 'What is the meaning of \"CPR\"?'], 23: [\"Who was Darth Vader's son?\", \"What was the name of Darth Vader's son?\", \"What was Darth Vader's son named?\"], 24: ['How did Bob Marley die?', 'What caused the death of Bob Marley?', 'What killed Bob Marley?', \"What was the cause of Bob Marley's death?\"], 25: ['What instrument is Ray Charles best known for playing?', 'What instrument does Ray Charles play?', 'Musician Ray Charles plays what instrument?', 'Ray Charles plays which instrument?', 'Ray Charles is best known for playing what instrument?'], 26: [\"What is Dick Clark's birthday?\", 'When was Dick Clark born?', \"When is Dick Clark's birthday?\", \"What is Dick Clark's date of birth?\"], 27: ['Where was Poe born?', \"What was Poe's birthplace?\", 'What was the birthplace of Edgar Allen Poe?', \"Where is Poe's birthplace?\"], 28: ['What king was forced to agree to the Magna Carta?', 'What monarch signed the Magna Carta?', 'Which king signed the Magna Carta?', 'Who was the king who was forced to agree to the Magna Carta?', 'What king signed the Magna Carta?', 'Who was the king who signed the Magna Carta?'], 29: ['Where is your corpus callosum?', \"Where is one's corpus callosum found?\", 'What part of your body contains the corpus callosum?', 'The corpus callosum is in what part of the body?'], 30: ['What is the longest word in the English language?', 'What English word has the most letters?', 'What English word contains the most letters?', 'What is the longest English word?'], 31: ['Who invented silly putty?', 'What is the name of the inventor of silly putty?', 'Silly putty was invented by whom?', 'Who was the inventor of silly putty?'], 32: ['When was the Brandenburg Gate in Berlin built?', \"When was Berlin's Brandenburg gate erected?\"], 33: ['When is Boxing Day?', 'What is the date of Boxing Day?', 'What date is Boxing Day?', 'Boxing Day is celebrated on what date?'], 34: ['Where is McCarren Airport?', 'What city does McCarren Airport serve?', 'What city is served by McCarren Airport?', 'McCarren Airport is located in what city?', 'What is the location of McCarren Airport?', 'Where is McCarren Airport located?'], 35: ['Who created \"The Muppets\"?', 'Who invented \"The Muppets\"?', 'What was the name of \"The Muppets\" creator?', '\"The Muppets\" was created by whom?', 'Name the creator of \"The Muppets\".', 'Who is the creator of \"The Muppets\"?'], 36: ['When is Bastille Day?', 'What is the date of Bastille Day?', 'Bastille Day occurs on which date?'], 37: ['What is the Islamic counterpart to the Red Cross?', 'What is the equivalent of the Red Cross in the Middle East?', 'What is the name of the Islamic counterpart to the Red Cross?', 'Name the Islamic counterpart to the Red Cross.', 'What is the Islamic equivalent of the Red Cross?', 'What is the name given to the Islamic counterpart of the Red Cross?'], 38: ['What is Colin Powell best known for?', 'Colin Powell is most famous for what?', 'Colin Powell is best known for what achievement?', 'Who is Colin Powell?', 'Colin Powell is famous for what?'], 39: ['What is the busiest air travel season?', 'What time of year do most people fly?', 'What time of year has the most air travel?', 'What time of year is air travel the heaviest?', 'At what time of year is air travel at a peak?'], 40: [\"What's the name of a golf course in Myrtle Beach?\", 'Name a golf course in Myrtle Beach.'], 41: [\"What's the name of Pittsburgh's baseball team?\", \"What is Pittsburg's baseball team called?\", 'The major league baseball team in Pittsburgh is called what?', \"Name Pittsburgh's baseball team.\"], 42: ['Where is the location of the Orange Bowl?', 'What city is the Orange Bowl in?', 'The Orange Bowl is in what city?', 'The Orange Bowl is located in what city?', 'Where is the Orange Bowl?'], 43: ['When was the last major eruption of Mount St. Helens?', 'When did Mount St. Helens last erupt?', 'When did Mount St. Helen last have a major eruption?', 'When did Mount St. Helen last have a significant eruption?'], 44: ['What is the abbreviation for Original Equipment Manufacturer?', 'How do you abbreviate \"Original Equipment Manufacturer\"?', 'How is \"Original Equipment Manufacturer\" abbreviated?'], 45: ['Where is Rider College located?', 'Where can one find Rider College?', 'What is the location of Rider College?', 'Rider College is located in what city?', 'Where is Rider College?'], 46: ['What does Nicholas Cage do for a living?', 'What is the occupation of Nicholas Cage?', \"What is Nicholas Cage's profession?\", \"What is Nicholas Cage's occupation?\"], 47: ['What does caliente mean (in English)?', 'What does caliente translate to in English?', 'What is the English meaning of caliente?', 'What is the meaning of caliente (in English)?', 'What is the English translation for the word \"caliente\"?'], 48: ['What is the name of the Jewish alphabet?', 'What is the Jewish alphabet called?', 'The Jewish alphabet is called what?', 'The Jewish alphabet is known as what?'], 49: ['What nationality was Jackson Pollock?', 'Jackson Pollock was a native of what country?', 'Jackson Pollock is of what nationality?', 'What was the nationality of Jackson Pollock?'], 50: ['Tell me what city the Kentucky Horse Park is near?', 'The Kentucky Horse Park is close to which American city?', 'Where is the Kentucky Horse Park located?', 'Where is the Kentucky Horse Park?', 'What city is the Kentucky Horse Park near?', 'The Kentucky Horse Park is located near what city?'], 51: ['What is the state nickname of Mississippi?', 'What is a nickname for Mississippi?', 'Mississippi is nicknamed what?', 'Mississippi has what name for a state nickname?', 'What is the nickname for the state of Mississippi?', 'What is the nickname of the state of Mississippi?'], 52: ['Who used to make cars with rotary engines?', 'Rotary engines were manufactured by which company?', 'Who made the rotary engine automobile?', 'Rotary engine cars were made by what company?', 'Rotary engines used to be made by whom?', 'What company produced rotary engine vehicles?'], 53: ['What is the tallest mountain?', \"What is the world's highest peak?\", 'What is the highest mountain in the world?', 'Name the highest mountain.', 'What is the name of the tallest mountain in the world?'], 54: ['What is Black Hills, South Dakota most famous for?', 'What makes Black Hills, South Dakota a tourist attraction?', 'What are the Black Hills known for?']}\n"
     ]
    }
   ],
   "source": [
    "groupNum = 0\n",
    "q_groups = {}\n",
    "with open('trec9variants.txt') as f:\n",
    "    content = f.readlines()\n",
    "\n",
    "for line in content:\n",
    "    if line.find('Orig: ') != -1:\n",
    "        groupNum += 1\n",
    "        question = line[11:-1]\n",
    "        arry = [question]\n",
    "        q_groups[groupNum] = arry\n",
    "    elif '.' in line:\n",
    "        question = line[11:-1]\n",
    "        arry = q_groups[groupNum]\n",
    "        arry.append(question)\n",
    "        q_groups[groupNum] = arry\n",
    "\n",
    "print q_groups"
   ]
  },
  {
   "cell_type": "code",
   "execution_count": 18,
   "metadata": {
    "collapsed": true
   },
   "outputs": [],
   "source": [
    "import pickle\n",
    "output = open('trec9_q_variants.pkl', 'wb')\n",
    "pickle.dump(q_groups, output)\n",
    "output.close()"
   ]
  },
  {
   "cell_type": "code",
   "execution_count": 19,
   "metadata": {
    "collapsed": false
   },
   "outputs": [
    {
     "name": "stdout",
     "output_type": "stream",
     "text": [
      "{1: ['What kind of animal was Winnie the Pooh?', 'Winnie the Pooh is what kind of animal?  ', 'What species was Winnie the Pooh?', 'Winnie the Pooh is an imitation of which animal?', 'What was the species of Winnie the Pooh?'], 2: [\"What's another name for aspartame?\", 'Aspartame if also known as what?', 'What is a synonym for aspartame?', 'Aspartame is known by what other name?', 'Aspartame is also called what?'], 3: ['What does hazmat stand for?', 'Hazmat stands for what?', 'What is the definition of hazmat?'], 4: ['What tourist attractions are there in Reims?', 'What are the names of the tourist attractions in Reims?', 'What do most tourists visit in Reims?', 'What attracts tourists to Reims?', 'What are tourist attractions in Reims?', 'What could I see in Reims?', 'What is worth seeing in Reims?', 'What can one see in Reims?'], 5: ['Name a film in which Jude Law acted.', 'Jude Law was in what movie?', 'Jude Law acted in which film?', 'What is a film starring Jude Law?', 'What film was Jude Law in?', 'What film or films has Jude Law appeared in?'], 6: ['Where are the U.S. headquarters for Procter & Gamble?', 'What city houses the U.S. headquarters of Procter and Gamble?', 'Where is Procter & Gamble headquartered in the U.S.?', 'What is the U.S. location of Procter & Gamble corporate offices?', 'Procter & Gamble is headquartered in which U.S. city?', 'Where is Procter & Gamble based in the U.S.?'], 7: ['How much folic acid should an expectant mother get daily? ', 'What is the recommended daily requirement for folic acid for pregnant women?', 'How much folic acid should a pregnant woman get each day?', 'What is the daily requirement of folic acid for an expectant mother?', 'What amount of folic acid should an expectant mother take daily?'], 8: ['What was the name of the first Russian astronaut to do a spacewalk? ', 'Name the first Russian astronaut to do a spacewalk.', 'Who was the first Russian astronaut to walk in space?', 'Who was the first Russian to do a spacewalk?'], 9: ['What does CNN stand for?', 'CNN is the abbreviation for what?', 'CNN is an acronym for what?'], 10: [\"When was CNN's first broadcast?\", \"What was the date of CNN's first broadcast?\", 'CNN began broadcasting in what year?', \"CNN's first broadcast occurred on what date?\", 'When did CNN begin broadcasting?', 'When did CNN go on the air?'], 11: ['Who owns CNN?', 'Who is the owner of CNN?', 'CNN is owned by whom?'], 12: ['What is the name of a Salt Lake City newspaper?', 'What newspaper serves Salt Lake City?', 'Name a Salt Lake City newspaper.'], 13: ['Who was Jane Goodall?', 'What is Jane Goodall famous for?', 'What is Jane Goodall known for?', 'Why is Jane Goodall famous?', 'What made Jane Goodall famous?'], 14: ['What is thalassemia?', 'Define thalassemia.', 'What is the meaning of thalassemia?', 'How is thalassemia defined?'], 15: ['What soft drink contains the largest amount of caffeine?', 'What soft drink is most heavily caffeinated?', 'What is the most heavily caffeinated soft drink?', 'To get the most caffeine, what soda should I drink?', 'Which type of soda has the greatest amount of caffeine?', 'What soft drink would provide me with the biggest intake of caffeine?'], 16: ['What do you call a group of geese?', 'What is the collective term for geese?', 'What is the collective noun for geese?', 'What is the term for a group of geese?', 'What is the name given to a group of geese?'], 17: ['How many months does a normal human pregnancy last?', 'What is the gestation period for human pregnancies?', 'How long is human gestation?', 'What is the gestation period for humans?', 'A normal human pregnancy lasts how many months?'], 18: [\"What format was VHS's main competition?\", 'What was the alternate to VHS?', 'What video format was an alternative to VHS?', 'What format was the major competition of VHS?'], 19: ['What culture developed the idea of potlatch?', 'What ethnic group introduced the idea of potlatch?', 'What is the cultural origin of the ceremony of potlatch?', 'Who developed potlatch?'], 20: ['Where is Logan International located?', 'Where is Logan Airport?', 'What city is Logan Airport in?', 'Logan International serves what city?', 'Logan International is located in what city?', \"What city's airport is named Logan International?\", 'What city is served by Logan International Airport?'], 21: ['What university was Woodrow Wilson president of?', 'Woodrow Wilson was president of which university?', 'Name the university of which Woodrow Wilson was president.', 'Woodrow Wilson served as president of what university?'], 22: ['What does CPR stand for?', 'What does the acronym CPR mean?', 'What do the initials CPR stand for?', 'CPR is the abbreviation for what?', 'What is the meaning of \"CPR\"?'], 23: [\"Who was Darth Vader's son?\", \"What was the name of Darth Vader's son?\", \"What was Darth Vader's son named?\"], 24: ['How did Bob Marley die?', 'What caused the death of Bob Marley?', 'What killed Bob Marley?', \"What was the cause of Bob Marley's death?\"], 25: ['What instrument is Ray Charles best known for playing?', 'What instrument does Ray Charles play?', 'Musician Ray Charles plays what instrument?', 'Ray Charles plays which instrument?', 'Ray Charles is best known for playing what instrument?'], 26: [\"What is Dick Clark's birthday?\", 'When was Dick Clark born?', \"When is Dick Clark's birthday?\", \"What is Dick Clark's date of birth?\"], 27: ['Where was Poe born?', \"What was Poe's birthplace?\", 'What was the birthplace of Edgar Allen Poe?', \"Where is Poe's birthplace?\"], 28: ['What king was forced to agree to the Magna Carta?', 'What monarch signed the Magna Carta?', 'Which king signed the Magna Carta?', 'Who was the king who was forced to agree to the Magna Carta?', 'What king signed the Magna Carta?', 'Who was the king who signed the Magna Carta?'], 29: ['Where is your corpus callosum?', \"Where is one's corpus callosum found?\", 'What part of your body contains the corpus callosum?', 'The corpus callosum is in what part of the body?'], 30: ['What is the longest word in the English language?', 'What English word has the most letters?', 'What English word contains the most letters?', 'What is the longest English word?'], 31: ['Who invented silly putty?', 'What is the name of the inventor of silly putty?', 'Silly putty was invented by whom?', 'Who was the inventor of silly putty?'], 32: ['When was the Brandenburg Gate in Berlin built?', \"When was Berlin's Brandenburg gate erected?\"], 33: ['When is Boxing Day?', 'What is the date of Boxing Day?', 'What date is Boxing Day?', 'Boxing Day is celebrated on what date?'], 34: ['Where is McCarren Airport?', 'What city does McCarren Airport serve?', 'What city is served by McCarren Airport?', 'McCarren Airport is located in what city?', 'What is the location of McCarren Airport?', 'Where is McCarren Airport located?'], 35: ['Who created \"The Muppets\"?', 'Who invented \"The Muppets\"?', 'What was the name of \"The Muppets\" creator?', '\"The Muppets\" was created by whom?', 'Name the creator of \"The Muppets\".', 'Who is the creator of \"The Muppets\"?'], 36: ['When is Bastille Day?', 'What is the date of Bastille Day?', 'Bastille Day occurs on which date?'], 37: ['What is the Islamic counterpart to the Red Cross?', 'What is the equivalent of the Red Cross in the Middle East?', 'What is the name of the Islamic counterpart to the Red Cross?', 'Name the Islamic counterpart to the Red Cross.', 'What is the Islamic equivalent of the Red Cross?', 'What is the name given to the Islamic counterpart of the Red Cross?'], 38: ['What is Colin Powell best known for?', 'Colin Powell is most famous for what?', 'Colin Powell is best known for what achievement?', 'Who is Colin Powell?', 'Colin Powell is famous for what?'], 39: ['What is the busiest air travel season?', 'What time of year do most people fly?', 'What time of year has the most air travel?', 'What time of year is air travel the heaviest?', 'At what time of year is air travel at a peak?'], 40: [\"What's the name of a golf course in Myrtle Beach?\", 'Name a golf course in Myrtle Beach.'], 41: [\"What's the name of Pittsburgh's baseball team?\", \"What is Pittsburg's baseball team called?\", 'The major league baseball team in Pittsburgh is called what?', \"Name Pittsburgh's baseball team.\"], 42: ['Where is the location of the Orange Bowl?', 'What city is the Orange Bowl in?', 'The Orange Bowl is in what city?', 'The Orange Bowl is located in what city?', 'Where is the Orange Bowl?'], 43: ['When was the last major eruption of Mount St. Helens?', 'When did Mount St. Helens last erupt?', 'When did Mount St. Helen last have a major eruption?', 'When did Mount St. Helen last have a significant eruption?'], 44: ['What is the abbreviation for Original Equipment Manufacturer?', 'How do you abbreviate \"Original Equipment Manufacturer\"?', 'How is \"Original Equipment Manufacturer\" abbreviated?'], 45: ['Where is Rider College located?', 'Where can one find Rider College?', 'What is the location of Rider College?', 'Rider College is located in what city?', 'Where is Rider College?'], 46: ['What does Nicholas Cage do for a living?', 'What is the occupation of Nicholas Cage?', \"What is Nicholas Cage's profession?\", \"What is Nicholas Cage's occupation?\"], 47: ['What does caliente mean (in English)?', 'What does caliente translate to in English?', 'What is the English meaning of caliente?', 'What is the meaning of caliente (in English)?', 'What is the English translation for the word \"caliente\"?'], 48: ['What is the name of the Jewish alphabet?', 'What is the Jewish alphabet called?', 'The Jewish alphabet is called what?', 'The Jewish alphabet is known as what?'], 49: ['What nationality was Jackson Pollock?', 'Jackson Pollock was a native of what country?', 'Jackson Pollock is of what nationality?', 'What was the nationality of Jackson Pollock?'], 50: ['Tell me what city the Kentucky Horse Park is near?', 'The Kentucky Horse Park is close to which American city?', 'Where is the Kentucky Horse Park located?', 'Where is the Kentucky Horse Park?', 'What city is the Kentucky Horse Park near?', 'The Kentucky Horse Park is located near what city?'], 51: ['What is the state nickname of Mississippi?', 'What is a nickname for Mississippi?', 'Mississippi is nicknamed what?', 'Mississippi has what name for a state nickname?', 'What is the nickname for the state of Mississippi?', 'What is the nickname of the state of Mississippi?'], 52: ['Who used to make cars with rotary engines?', 'Rotary engines were manufactured by which company?', 'Who made the rotary engine automobile?', 'Rotary engine cars were made by what company?', 'Rotary engines used to be made by whom?', 'What company produced rotary engine vehicles?'], 53: ['What is the tallest mountain?', \"What is the world's highest peak?\", 'What is the highest mountain in the world?', 'Name the highest mountain.', 'What is the name of the tallest mountain in the world?'], 54: ['What is Black Hills, South Dakota most famous for?', 'What makes Black Hills, South Dakota a tourist attraction?', 'What are the Black Hills known for?']}\n"
     ]
    }
   ],
   "source": []
  },
  {
   "cell_type": "code",
   "execution_count": 20,
   "metadata": {
    "collapsed": false
   },
   "outputs": [
    {
     "name": "stdout",
     "output_type": "stream",
     "text": [
      "0.7095788\n",
      "0.80774486\n"
     ]
    }
   ],
   "source": [
    "from requests import get\n",
    "\n",
    "sss_url = \"http://swoogle.umbc.edu/SimService/GetSimilarity\"\n",
    "sts_url = \"http://swoogle.umbc.edu/StsService/GetStsSim\"\n",
    "\n",
    "def sss(s1, s2, url, type='relation', corpus='webbase'):\n",
    "    try:\n",
    "        response = get(url, params={'operation':'api','phrase1':s1,'phrase2':s2,'type':type,'corpus':corpus})\n",
    "        return float(response.text.strip())\n",
    "    except:\n",
    "        print 'Error in getting similarity for %s: %s' % ((s1,s2), response)\n",
    "        return 0.0\n",
    "\n",
    "def sts(s1, s2, url):\n",
    "    try:\n",
    "        response = get(url, params={'operation':'api','phrase1':s1,'phrase2':s2})\n",
    "        return float(response.text.strip())\n",
    "    except:\n",
    "        print 'Error in getting similarity for %s: %s' % ((s1,s2), response)\n",
    "        return 0.0\n",
    "\n",
    "val1 = sss('a small violin is being played by a girl', 'a child is performing on a tiny instrument', sss_url, type='concept')\n",
    "print val1\n",
    "\n",
    "\n",
    "val3 = sts('a small violin is being played by a girl', 'a child is performing on a tiny instrument', sts_url)\n",
    "print val3\n"
   ]
  },
  {
   "cell_type": "code",
   "execution_count": 28,
   "metadata": {
    "collapsed": false
   },
   "outputs": [
    {
     "name": "stdout",
     "output_type": "stream",
     "text": [
      "[0.010616493, 0.07006299, 0.016044216, 0.085049145, 0.09369683, 0.010616493, 0.07006299, 0.016044216, 0.085049145, 0.09369683, 0.039487403, 0.042849742, 0.019335221, 0.057171147, 0.025113702, 0.013403652, 0.010714044, 0.023285601, 0.032839946, 0.004919904, 0.039487403, 0.042849742, 0.019335221, 0.057171147, 0.025113702]\n",
      "[0.0, 0.025919747, 0.0, 0.03826627, 0.0, 0.0, 0.025919747, 0.0, 0.03826627, 0.0, 0.042086724, 0.051533543, 0.0, 0.062385593, 0.026249863, 0.0, 0.023327772, 0.0, 0.042012066, 0.0, 0.042086724, 0.051533543, 0.0, 0.062385593, 0.026249863]\n",
      "[0.0053082465, 0.047991368500000006, 0.008022108, 0.061657707500000006, 0.046848415, 0.0053082465, 0.047991368500000006, 0.008022108, 0.061657707500000006, 0.046848415, 0.0407870635, 0.047191642500000006, 0.0096676105, 0.05977837, 0.0256817825, 0.006701826, 0.017020908, 0.0116428005, 0.037426006, 0.002459952, 0.0407870635, 0.047191642500000006, 0.0096676105, 0.05977837, 0.0256817825]\n"
     ]
    }
   ],
   "source": [
    "q_group = q_groups[1]\n",
    "sss_vals = []\n",
    "sts_vals = []\n",
    "averages = []\n",
    "for q1 in q_group:\n",
    "    for q2 in q_group:\n",
    "        sss_val = sss(q1, q2, sss_url)\n",
    "        sts_val = sts(q1, q2, sts_url)\n",
    "        average = (float(sss_val) + float(sts_val))/2.0\n",
    "        sss_vals.append(sss_val)\n",
    "        sts_vals.append(sts_val)\n",
    "        averages.append(average)\n",
    "\n",
    "print sss_vals\n",
    "print sts_vals\n",
    "print averages"
   ]
  },
  {
   "cell_type": "code",
   "execution_count": 29,
   "metadata": {
    "collapsed": false
   },
   "outputs": [
    {
     "name": "stdout",
     "output_type": "stream",
     "text": [
      "['What kind of animal was Winnie the Pooh?', 'Winnie the Pooh is what kind of animal?  ', 'What species was Winnie the Pooh?', 'Winnie the Pooh is an imitation of which animal?', 'What was the species of Winnie the Pooh?']\n"
     ]
    }
   ],
   "source": [
    "print q_groups[1]"
   ]
  },
  {
   "cell_type": "code",
   "execution_count": 38,
   "metadata": {
    "collapsed": false
   },
   "outputs": [
    {
     "name": "stdout",
     "output_type": "stream",
     "text": [
      "0.375\n",
      "0.8333333\n"
     ]
    }
   ],
   "source": [
    "group = q_groups[1]\n",
    "q1 = group[0]\n",
    "q2 = 'who Winnie the Pooh'\n",
    "print sss(q1, q2, sss_url)\n",
    "print sts(q1, q2, sts_url)"
   ]
  },
  {
   "cell_type": "code",
   "execution_count": 47,
   "metadata": {
    "collapsed": false
   },
   "outputs": [
    {
     "name": "stdout",
     "output_type": "stream",
     "text": [
      "0.8841654\n",
      "0.7547303\n"
     ]
    }
   ],
   "source": [
    "q1 = 'where do you get your shoes from'\n",
    "q2 = 'I loved your shoes, where do you get them'\n",
    "print sss(q1, q2, sss_url)\n",
    "print sts(q1, q2, sts_url)"
   ]
  },
  {
   "cell_type": "code",
   "execution_count": null,
   "metadata": {
    "collapsed": true
   },
   "outputs": [],
   "source": []
  }
 ],
 "metadata": {
  "kernelspec": {
   "display_name": "Python 2",
   "language": "python",
   "name": "python2"
  },
  "language_info": {
   "codemirror_mode": {
    "name": "ipython",
    "version": 2
   },
   "file_extension": ".py",
   "mimetype": "text/x-python",
   "name": "python",
   "nbconvert_exporter": "python",
   "pygments_lexer": "ipython2",
   "version": "2.7.11"
  }
 },
 "nbformat": 4,
 "nbformat_minor": 0
}
